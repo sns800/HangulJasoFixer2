{
  "nbformat": 4,
  "nbformat_minor": 0,
  "metadata": {
    "colab": {
      "name": "[디큐의 허슬코딩] 부동산 API 이해",
      "provenance": [],
      "collapsed_sections": [
        "OaZVvf07T9lD",
        "JS8NP7E_VMe5",
        "iFzFWmQGV-b1"
      ],
      "include_colab_link": true
    },
    "kernelspec": {
      "name": "python3",
      "display_name": "Python 3"
    }
  },
  "cells": [
    {
      "cell_type": "markdown",
      "metadata": {
        "id": "view-in-github",
        "colab_type": "text"
      },
      "source": [
        "<a href=\"https://colab.research.google.com/github/sns800/HangulJasoFixer2/blob/master/%5B%EB%94%94%ED%81%90%EC%9D%98_%ED%97%88%EC%8A%AC%EC%BD%94%EB%94%A9%5D_%EB%B6%80%EB%8F%99%EC%82%B0_API_%EC%9D%B4%ED%95%B4.ipynb\" target=\"_parent\"><img src=\"https://colab.research.google.com/assets/colab-badge.svg\" alt=\"Open In Colab\"/></a>"
      ]
    },
    {
      "cell_type": "markdown",
      "metadata": {
        "id": "v2T5-Q1DtNkB"
      },
      "source": [
        "- **최신 버전**  \n",
        "![](https://img.shields.io/badge/PublicDataReader-0.1.2-blue.svg)  \n",
        "\n",
        "- **요구 사항**  \n",
        "![](https://img.shields.io/badge/Python-3.7.4-yellow.svg) ![](https://img.shields.io/badge/Pandas-0.25.3-red.svg)\n",
        "\n",
        "**PublicDataReader**는 [공공데이터포털](https://data.go.kr)에서 제공하는 OpenAPI 서비스를 Python으로 쉽게 이용할 수 있도록 도와주는 **데이터 수집 라이브러리**입니다. 2020년 12월 현재 [국토교통부 실거래가 정보](https://www.data.go.kr/dataset/3050988/openapi.do) 조회 서비스에 대한 인터페이스를 제공하고 있습니다. 추후 수요가 높은 Open API 서비스에 대한 인터페이스도 지속적으로 업데이트할 예정입니다.\n",
        "\n",
        "## 사용 가능한 서비스\n",
        "\n",
        "**메서드**              | **서비스 명**\n",
        "---------------------- | --------------------\n",
        "CondeFinder | 지역코드 조회\n",
        "DataCollector | 서비스/기간 별 데이터 조회\n",
        "AptTrade | 아파트매매 실거래자료 조회\n",
        "AptTradeDetail | 아파트매매 실거래 상세 자료 조회\n",
        "AptRent | 아파트 전월세 자료 조회\n",
        "AptOwnership | 아파트 분양권전매 신고 자료 조회\n",
        "OffiTrade | 오피스텔 매매 신고 조회\n",
        "OffiRent | 오피스텔 전월세 신고 조회\n",
        "RHTrade | 연립다세대 매매 실거래자료 조회\n",
        "RHRent | 연립다세대 전월세 실거래자료 조회\n",
        "DHTrade | 단독/다가구 매매 실거래 조회\n",
        "DHRent | 단독/다가구 전월세 자료 조회\n",
        "LandTrade | 토지 매매 신고 조회\n",
        "BizTrade | 상업업무용 부동산 매매 신고 자료 조회\n"
      ]
    },
    {
      "cell_type": "code",
      "metadata": {
        "id": "BOsilJxG_trB",
        "colab": {
          "base_uri": "https://localhost:8080/"
        },
        "outputId": "894fff5c-1344-4962-88a1-88abb28835ee"
      },
      "source": [
        "# PublicDataReader 설치\n",
        "!pip install PublicDataReader"
      ],
      "execution_count": null,
      "outputs": [
        {
          "output_type": "stream",
          "text": [
            "Collecting PublicDataReader\n",
            "  Downloading https://files.pythonhosted.org/packages/08/13/06f7e6c16226d6e1da438afa7e408f572599f60181121489ce9ef8d3bd22/PublicDataReader-2021.4.12-py3-none-any.whl\n",
            "Installing collected packages: PublicDataReader\n",
            "Successfully installed PublicDataReader-2021.4.12\n"
          ],
          "name": "stdout"
        }
      ]
    },
    {
      "cell_type": "code",
      "metadata": {
        "id": "DsCYbg0tz49W",
        "colab": {
          "base_uri": "https://localhost:8080/"
        },
        "outputId": "74531707-4a23-4d6c-c226-3835f98254a1"
      },
      "source": [
        "# 라이브러리 임포트 및 버전 확인\n",
        "import PublicDataReader as pdr\n",
        "print(pdr.__version__)"
      ],
      "execution_count": null,
      "outputs": [
        {
          "output_type": "stream",
          "text": [
            "\n",
            ">>> PublicDataReader Version : 2021.4.12\n",
            "\n",
            "- Author : Wooil Jeong\n",
            "- E-mail : wooil@kakao.com\n",
            "- Github : https://github.com/WooilJeong/PublicDataReader\n",
            "- Blog : https://wooiljeong.github.io\n",
            "\n"
          ],
          "name": "stdout"
        }
      ]
    },
    {
      "cell_type": "code",
      "metadata": {
        "id": "6j134H48zpDD",
        "colab": {
          "base_uri": "https://localhost:8080/"
        },
        "outputId": "f55f61a7-8a31-4725-f860-4d062a62ff34"
      },
      "source": [
        "# 공공 데이터 포털 Open API 서비스 인증키\n",
        "serviceKey = \"<< YOUR API KEY >>\"\n",
        "# 국토교통부 실거래가 Open API 인스턴스 생성\n",
        "molit = pdr.Transaction(serviceKey)"
      ],
      "execution_count": null,
      "outputs": [
        {
          "output_type": "stream",
          "text": [
            ">>> 아파트매매 실거래자료 조회 서비스가 정상 작동합니다.\n",
            ">>> 아파트매매 실거래 상세 자료 조회 서비스가 정상 작동합니다.\n",
            ">>> 아파트 전월세 자료 조회 서비스가 정상 작동합니다.\n",
            ">>> 아파트 분양권전매 신고 자료 조회 서비스가 정상 작동합니다.\n",
            ">>> 오피스텔 매매 신고 조회 서비스가 정상 작동합니다.\n",
            ">>> 오피스텔 전월세 신고 조회 서비스가 정상 작동합니다.\n",
            ">>> 연립다세대 매매 실거래자료 조회 서비스가 정상 작동합니다.\n",
            ">>> 연립다세대 전월세 실거래자료 조회 서비스가 정상 작동합니다.\n",
            ">>> 단독/다가구 매매 실거래 조회 서비스가 정상 작동합니다.\n",
            ">>> 단독/다가구 전월세 자료 조회 서비스가 정상 작동합니다.\n",
            ">>> 토지 매매 신고 조회 서비스가 정상 작동합니다.\n",
            ">>> 상업업무용 부동산 매매 신고 자료 조회 서비스가 정상 작동합니다.\n"
          ],
          "name": "stdout"
        }
      ]
    },
    {
      "cell_type": "code",
      "metadata": {
        "id": "ohlFFuoCzqZZ",
        "colab": {
          "base_uri": "https://localhost:8080/",
          "height": 80
        },
        "outputId": "42099a80-3cbf-4289-e0f3-c4693f327989"
      },
      "source": [
        "# 지역코드 조회\n",
        "bdongName = '풍산동'\n",
        "codeResult = molit.CodeFinder(bdongName)\n",
        "codeResult"
      ],
      "execution_count": null,
      "outputs": [
        {
          "output_type": "execute_result",
          "data": {
            "text/html": [
              "<div>\n",
              "<style scoped>\n",
              "    .dataframe tbody tr th:only-of-type {\n",
              "        vertical-align: middle;\n",
              "    }\n",
              "\n",
              "    .dataframe tbody tr th {\n",
              "        vertical-align: top;\n",
              "    }\n",
              "\n",
              "    .dataframe thead th {\n",
              "        text-align: right;\n",
              "    }\n",
              "</style>\n",
              "<table border=\"1\" class=\"dataframe\">\n",
              "  <thead>\n",
              "    <tr style=\"text-align: right;\">\n",
              "      <th></th>\n",
              "      <th>법정동명</th>\n",
              "      <th>법정구코드</th>\n",
              "    </tr>\n",
              "  </thead>\n",
              "  <tbody>\n",
              "    <tr>\n",
              "      <th>0</th>\n",
              "      <td>경기도 하남시 풍산동</td>\n",
              "      <td>41450</td>\n",
              "    </tr>\n",
              "  </tbody>\n",
              "</table>\n",
              "</div>"
            ],
            "text/plain": [
              "          법정동명  법정구코드\n",
              "0  경기도 하남시 풍산동  41450"
            ]
          },
          "metadata": {
            "tags": []
          },
          "execution_count": 48
        }
      ]
    },
    {
      "cell_type": "code",
      "metadata": {
        "id": "IW1y-3AqYxiC"
      },
      "source": [
        "# 지역코드 및 계약월 설정\n",
        "targetCode = 11350\n",
        "yyyymm = 202105"
      ],
      "execution_count": null,
      "outputs": []
    },
    {
      "cell_type": "code",
      "metadata": {
        "id": "SWyJcMO2zsoI"
      },
      "source": [
        "# 5. 지역, 월 별 데이터 프레임 만들기\n",
        "# Function(지역코드(5자리), 계약월(YYYYMM))\n",
        "# (예시) '2020년 12월', '분당구'에 해당하는 자료를 Pandas DataFrame으로 반환\n",
        "\n",
        "df_AptTrade = molit.AptTrade(targetCode, yyyymm)             # 아파트매매 실거래자료 조회\n",
        "df_AptTradeDetail = molit.AptTradeDetail(targetCode, yyyymm) # 아파트매매 실거래 상세 자료 조회\n",
        "df_AptRent = molit.AptRent(targetCode, yyyymm)               # 아파트 전월세 자료 조회\n",
        "df_AptOwnership = molit.AptOwnership(targetCode, yyyymm)     # 아파트 분양권전매 신고 자료 조회\n",
        "\n",
        "df_OffiTrade = molit.OffiTrade(targetCode, yyyymm)           # 오피스텔 매매 신고 조회\n",
        "df_OffiRent = molit.OffiRent(targetCode, yyyymm)             # 오피스텔 전월세 신고 조회\n",
        "df_RHTrade = molit.RHTrade(targetCode, yyyymm)               # 연립다세대 매매 실거래자료 조회\n",
        "df_RHRent = molit.RHRent(targetCode, yyyymm)                 # 연립다세대 전월세 실거래자료 조회\n",
        "\n",
        "df_DHTrade = molit.DHTrade(targetCode, yyyymm)               # 단독/다가구 매매 실거래 조회\n",
        "df_DHRent = molit.DHRent(targetCode, yyyymm)                 # 단독/다가구 전월세 자료 조회\n",
        "df_LandTrade = molit.LandTrade(targetCode, yyyymm)           # 토지 매매 신고 조회\n",
        "df_BizTrade = molit.BizTrade(targetCode, yyyymm)             # 상업업무용 부동산 매매 신고 자료 조회"
      ],
      "execution_count": null,
      "outputs": []
    },
    {
      "cell_type": "markdown",
      "metadata": {
        "id": "KfipN4YHSXv6"
      },
      "source": [
        "#### 5-1. 아파트 실거래가 정보"
      ]
    },
    {
      "cell_type": "code",
      "metadata": {
        "id": "zwc9fHlouLW1",
        "colab": {
          "base_uri": "https://localhost:8080/"
        },
        "outputId": "6070ef07-8fed-4996-9045-25fb35a99d59"
      },
      "source": [
        "from datetime import datetime, timedelta\n",
        "import pandas as pd\n",
        "\n",
        "this_month = datetime.now().strftime('%Y%m')\n",
        "last_month = (datetime.now()-timedelta(days=30)).strftime('%Y%m')\n",
        "two_week = (datetime.now() - timedelta(days=25)).strftime('%Y-%m-%d')\n",
        "if datetime.now().strftime('%d') > '15':\n",
        "    df_AptTrade = molit.AptTrade(targetCode, this_month)  # 아파트매매 실거래자료 조회\n",
        "else:\n",
        "    this_month = datetime.now().strftime('%Y%m')\n",
        "    last_month = (datetime.now() - timedelta(days=30)).strftime('%Y%m')\n",
        "    df_AptTrade_last = molit.AptTrade(targetCode, last_month)  # 아파트매매 실거래자료 조회\n",
        "    df_AptTrade_this = molit.AptTrade(targetCode, this_month)  # 아파트매매 실거래자료 조회\n",
        "    df_AptTrade = pd.concat([df_AptTrade_last, df_AptTrade_this], ignore_index=True)\n",
        "two_week = (datetime.now() - timedelta(days=15)).strftime('%Y-%m-%d')\n",
        "result = df_AptTrade[df_AptTrade['법정동'] == '풍산동'][df_AptTrade['거래일'] >= two_week]\n",
        "\n",
        "def apt_string(row):\n",
        "  return f\"{row['거래일'].strftime('%Y년 %m월 %d일')}에 {row['아파트']} {row['층']}층, {int(row['거래금액']/10000)}억 {row['거래금액']%10000}만원에 매매되었습니다. (전용면적: {row['전용면적']}, 건축년도: {row['건축년도']})\"\n",
        "\n",
        "result['text'] = result.apply(lambda x: apt_string(x), axis=1)"
      ],
      "execution_count": null,
      "outputs": [
        {
          "output_type": "stream",
          "text": [
            "2021년 05월 07일에 미사강변 동일하이빌 17층, 8억 6300만원에 매매되었습니다. (전용면적: 59.93, 건축년도: 2018)\n"
          ],
          "name": "stdout"
        },
        {
          "output_type": "stream",
          "text": [
            "/usr/local/lib/python3.7/dist-packages/ipykernel_launcher.py:16: UserWarning: Boolean Series key will be reindexed to match DataFrame index.\n",
            "  app.launch_new_instance()\n",
            "/usr/local/lib/python3.7/dist-packages/ipykernel_launcher.py:21: SettingWithCopyWarning: \n",
            "A value is trying to be set on a copy of a slice from a DataFrame.\n",
            "Try using .loc[row_indexer,col_indexer] = value instead\n",
            "\n",
            "See the caveats in the documentation: https://pandas.pydata.org/pandas-docs/stable/user_guide/indexing.html#returning-a-view-versus-a-copy\n"
          ],
          "name": "stderr"
        }
      ]
    },
    {
      "cell_type": "code",
      "metadata": {
        "id": "aTFyTTCTuavC",
        "colab": {
          "base_uri": "https://localhost:8080/",
          "height": 204
        },
        "outputId": "1da6c394-c787-4d24-e7e9-7e16fc9a977c"
      },
      "source": [
        "df_AptRent = molit.AptRent(targetCode, yyyymm)               # 아파트 전월세 자료 조회\n",
        "df_AptRent.head() "
      ],
      "execution_count": null,
      "outputs": [
        {
          "output_type": "execute_result",
          "data": {
            "text/html": [
              "<div>\n",
              "<style scoped>\n",
              "    .dataframe tbody tr th:only-of-type {\n",
              "        vertical-align: middle;\n",
              "    }\n",
              "\n",
              "    .dataframe tbody tr th {\n",
              "        vertical-align: top;\n",
              "    }\n",
              "\n",
              "    .dataframe thead th {\n",
              "        text-align: right;\n",
              "    }\n",
              "</style>\n",
              "<table border=\"1\" class=\"dataframe\">\n",
              "  <thead>\n",
              "    <tr style=\"text-align: right;\">\n",
              "      <th></th>\n",
              "      <th>지역코드</th>\n",
              "      <th>법정동</th>\n",
              "      <th>거래일</th>\n",
              "      <th>아파트</th>\n",
              "      <th>지번</th>\n",
              "      <th>전용면적</th>\n",
              "      <th>층</th>\n",
              "      <th>건축년도</th>\n",
              "      <th>보증금액</th>\n",
              "      <th>월세금액</th>\n",
              "    </tr>\n",
              "  </thead>\n",
              "  <tbody>\n",
              "    <tr>\n",
              "      <th>0</th>\n",
              "      <td>41450</td>\n",
              "      <td>감이동</td>\n",
              "      <td>2021-01-12</td>\n",
              "      <td>감일 한라비발디</td>\n",
              "      <td>530</td>\n",
              "      <td>84.9200</td>\n",
              "      <td>17</td>\n",
              "      <td>2019</td>\n",
              "      <td>60000</td>\n",
              "      <td>0</td>\n",
              "    </tr>\n",
              "    <tr>\n",
              "      <th>1</th>\n",
              "      <td>41450</td>\n",
              "      <td>감이동</td>\n",
              "      <td>2021-01-14</td>\n",
              "      <td>감일 센트레빌</td>\n",
              "      <td>535</td>\n",
              "      <td>59.9200</td>\n",
              "      <td>13</td>\n",
              "      <td>2020</td>\n",
              "      <td>38000</td>\n",
              "      <td>0</td>\n",
              "    </tr>\n",
              "    <tr>\n",
              "      <th>2</th>\n",
              "      <td>41450</td>\n",
              "      <td>감이동</td>\n",
              "      <td>2021-01-21</td>\n",
              "      <td>포웰시티 푸르지오 라포레</td>\n",
              "      <td>500</td>\n",
              "      <td>99.4327</td>\n",
              "      <td>16</td>\n",
              "      <td>2021</td>\n",
              "      <td>29472</td>\n",
              "      <td>0</td>\n",
              "    </tr>\n",
              "    <tr>\n",
              "      <th>3</th>\n",
              "      <td>41450</td>\n",
              "      <td>감이동</td>\n",
              "      <td>2021-01-26</td>\n",
              "      <td>감일 한라비발디</td>\n",
              "      <td>530</td>\n",
              "      <td>84.8700</td>\n",
              "      <td>18</td>\n",
              "      <td>2019</td>\n",
              "      <td>28000</td>\n",
              "      <td>0</td>\n",
              "    </tr>\n",
              "    <tr>\n",
              "      <th>4</th>\n",
              "      <td>41450</td>\n",
              "      <td>감이동</td>\n",
              "      <td>2021-01-26</td>\n",
              "      <td>감일 한라비발디</td>\n",
              "      <td>530</td>\n",
              "      <td>84.8700</td>\n",
              "      <td>14</td>\n",
              "      <td>2019</td>\n",
              "      <td>65000</td>\n",
              "      <td>0</td>\n",
              "    </tr>\n",
              "  </tbody>\n",
              "</table>\n",
              "</div>"
            ],
            "text/plain": [
              "    지역코드  법정동        거래일            아파트   지번     전용면적   층  건축년도   보증금액  월세금액\n",
              "0  41450  감이동 2021-01-12       감일 한라비발디  530  84.9200  17  2019  60000     0\n",
              "1  41450  감이동 2021-01-14        감일 센트레빌  535  59.9200  13  2020  38000     0\n",
              "2  41450  감이동 2021-01-21  포웰시티 푸르지오 라포레  500  99.4327  16  2021  29472     0\n",
              "3  41450  감이동 2021-01-26       감일 한라비발디  530  84.8700  18  2019  28000     0\n",
              "4  41450  감이동 2021-01-26       감일 한라비발디  530  84.8700  14  2019  65000     0"
            ]
          },
          "metadata": {
            "tags": []
          },
          "execution_count": 8
        }
      ]
    },
    {
      "cell_type": "markdown",
      "metadata": {
        "id": "LqXb1AaKTQV8"
      },
      "source": [
        "#### 5-2. 오피스텔 실거래가 정보"
      ]
    },
    {
      "cell_type": "code",
      "metadata": {
        "colab": {
          "base_uri": "https://localhost:8080/",
          "height": 204
        },
        "id": "u_eqO952Hdn3",
        "outputId": "56933111-bafe-413b-a398-8ad451961110"
      },
      "source": [
        "df_OffiTrade = molit.OffiTrade(targetCode, yyyymm)           # 오피스텔 매매 신고 조회\n",
        "df_OffiTrade.head()"
      ],
      "execution_count": null,
      "outputs": [
        {
          "output_type": "execute_result",
          "data": {
            "text/html": [
              "<div>\n",
              "<style scoped>\n",
              "    .dataframe tbody tr th:only-of-type {\n",
              "        vertical-align: middle;\n",
              "    }\n",
              "\n",
              "    .dataframe tbody tr th {\n",
              "        vertical-align: top;\n",
              "    }\n",
              "\n",
              "    .dataframe thead th {\n",
              "        text-align: right;\n",
              "    }\n",
              "</style>\n",
              "<table border=\"1\" class=\"dataframe\">\n",
              "  <thead>\n",
              "    <tr style=\"text-align: right;\">\n",
              "      <th></th>\n",
              "      <th>지역코드</th>\n",
              "      <th>법정동</th>\n",
              "      <th>거래일</th>\n",
              "      <th>시군구</th>\n",
              "      <th>단지</th>\n",
              "      <th>지번</th>\n",
              "      <th>전용면적</th>\n",
              "      <th>층</th>\n",
              "      <th>거래금액</th>\n",
              "    </tr>\n",
              "  </thead>\n",
              "  <tbody>\n",
              "    <tr>\n",
              "      <th>0</th>\n",
              "      <td>41450</td>\n",
              "      <td>덕풍동</td>\n",
              "      <td>2021-01-15</td>\n",
              "      <td>하남시</td>\n",
              "      <td>트원렉스1</td>\n",
              "      <td>743</td>\n",
              "      <td>33.62</td>\n",
              "      <td>6</td>\n",
              "      <td>12200</td>\n",
              "    </tr>\n",
              "    <tr>\n",
              "      <th>1</th>\n",
              "      <td>41450</td>\n",
              "      <td>덕풍동</td>\n",
              "      <td>2021-01-29</td>\n",
              "      <td>하남시</td>\n",
              "      <td>(326-48)</td>\n",
              "      <td>326-48</td>\n",
              "      <td>59.89</td>\n",
              "      <td>7</td>\n",
              "      <td>32000</td>\n",
              "    </tr>\n",
              "    <tr>\n",
              "      <th>2</th>\n",
              "      <td>41450</td>\n",
              "      <td>덕풍동</td>\n",
              "      <td>2021-01-30</td>\n",
              "      <td>하남시</td>\n",
              "      <td>트원렉스1</td>\n",
              "      <td>743</td>\n",
              "      <td>52.62</td>\n",
              "      <td>4</td>\n",
              "      <td>20000</td>\n",
              "    </tr>\n",
              "    <tr>\n",
              "      <th>3</th>\n",
              "      <td>41450</td>\n",
              "      <td>망월동</td>\n",
              "      <td>2021-01-04</td>\n",
              "      <td>하남시</td>\n",
              "      <td>우성르보아리버</td>\n",
              "      <td>1096-2</td>\n",
              "      <td>18.09</td>\n",
              "      <td>16</td>\n",
              "      <td>12000</td>\n",
              "    </tr>\n",
              "    <tr>\n",
              "      <th>4</th>\n",
              "      <td>41450</td>\n",
              "      <td>망월동</td>\n",
              "      <td>2021-01-04</td>\n",
              "      <td>하남시</td>\n",
              "      <td>미사역 헤리움 애비뉴어</td>\n",
              "      <td>1129-2</td>\n",
              "      <td>26.46</td>\n",
              "      <td>7</td>\n",
              "      <td>21700</td>\n",
              "    </tr>\n",
              "  </tbody>\n",
              "</table>\n",
              "</div>"
            ],
            "text/plain": [
              "    지역코드  법정동        거래일  시군구            단지      지번   전용면적   층   거래금액\n",
              "0  41450  덕풍동 2021-01-15  하남시         트원렉스1     743  33.62   6  12200\n",
              "1  41450  덕풍동 2021-01-29  하남시      (326-48)  326-48  59.89   7  32000\n",
              "2  41450  덕풍동 2021-01-30  하남시         트원렉스1     743  52.62   4  20000\n",
              "3  41450  망월동 2021-01-04  하남시       우성르보아리버  1096-2  18.09  16  12000\n",
              "4  41450  망월동 2021-01-04  하남시  미사역 헤리움 애비뉴어  1129-2  26.46   7  21700"
            ]
          },
          "metadata": {
            "tags": []
          },
          "execution_count": 9
        }
      ]
    },
    {
      "cell_type": "code",
      "metadata": {
        "colab": {
          "base_uri": "https://localhost:8080/",
          "height": 204
        },
        "id": "EemWCgE2TZdu",
        "outputId": "ec667153-1e6b-4feb-d6e4-226a65b2c6d8"
      },
      "source": [
        "df_OffiRent = molit.OffiRent(targetCode, yyyymm)             # 오피스텔 전월세 신고 조회\n",
        "df_OffiRent.head()"
      ],
      "execution_count": null,
      "outputs": [
        {
          "output_type": "execute_result",
          "data": {
            "text/html": [
              "<div>\n",
              "<style scoped>\n",
              "    .dataframe tbody tr th:only-of-type {\n",
              "        vertical-align: middle;\n",
              "    }\n",
              "\n",
              "    .dataframe tbody tr th {\n",
              "        vertical-align: top;\n",
              "    }\n",
              "\n",
              "    .dataframe thead th {\n",
              "        text-align: right;\n",
              "    }\n",
              "</style>\n",
              "<table border=\"1\" class=\"dataframe\">\n",
              "  <thead>\n",
              "    <tr style=\"text-align: right;\">\n",
              "      <th></th>\n",
              "      <th>지역코드</th>\n",
              "      <th>법정동</th>\n",
              "      <th>거래일</th>\n",
              "      <th>시군구</th>\n",
              "      <th>단지</th>\n",
              "      <th>지번</th>\n",
              "      <th>전용면적</th>\n",
              "      <th>층</th>\n",
              "      <th>보증금</th>\n",
              "      <th>월세</th>\n",
              "    </tr>\n",
              "  </thead>\n",
              "  <tbody>\n",
              "    <tr>\n",
              "      <th>0</th>\n",
              "      <td>41450</td>\n",
              "      <td>덕풍동</td>\n",
              "      <td>2021-01-06</td>\n",
              "      <td>하남시</td>\n",
              "      <td>블리스 오피스텔</td>\n",
              "      <td>460-1</td>\n",
              "      <td>23.26</td>\n",
              "      <td>12</td>\n",
              "      <td>12500</td>\n",
              "      <td>0</td>\n",
              "    </tr>\n",
              "    <tr>\n",
              "      <th>1</th>\n",
              "      <td>41450</td>\n",
              "      <td>덕풍동</td>\n",
              "      <td>2021-01-16</td>\n",
              "      <td>하남시</td>\n",
              "      <td>빌리브하남</td>\n",
              "      <td>735</td>\n",
              "      <td>32.41</td>\n",
              "      <td>3</td>\n",
              "      <td>25000</td>\n",
              "      <td>0</td>\n",
              "    </tr>\n",
              "    <tr>\n",
              "      <th>2</th>\n",
              "      <td>41450</td>\n",
              "      <td>덕풍동</td>\n",
              "      <td>2021-01-18</td>\n",
              "      <td>하남시</td>\n",
              "      <td>하남푸르지오시티</td>\n",
              "      <td>741</td>\n",
              "      <td>26.40</td>\n",
              "      <td>4</td>\n",
              "      <td>500</td>\n",
              "      <td>45</td>\n",
              "    </tr>\n",
              "    <tr>\n",
              "      <th>3</th>\n",
              "      <td>41450</td>\n",
              "      <td>덕풍동</td>\n",
              "      <td>2021-01-18</td>\n",
              "      <td>하남시</td>\n",
              "      <td>하남푸르지오시티</td>\n",
              "      <td>741</td>\n",
              "      <td>26.41</td>\n",
              "      <td>6</td>\n",
              "      <td>500</td>\n",
              "      <td>45</td>\n",
              "    </tr>\n",
              "    <tr>\n",
              "      <th>4</th>\n",
              "      <td>41450</td>\n",
              "      <td>덕풍동</td>\n",
              "      <td>2021-01-19</td>\n",
              "      <td>하남시</td>\n",
              "      <td>빌리브하남</td>\n",
              "      <td>735</td>\n",
              "      <td>84.46</td>\n",
              "      <td>10</td>\n",
              "      <td>63000</td>\n",
              "      <td>0</td>\n",
              "    </tr>\n",
              "  </tbody>\n",
              "</table>\n",
              "</div>"
            ],
            "text/plain": [
              "    지역코드  법정동        거래일  시군구        단지     지번   전용면적   층    보증금  월세\n",
              "0  41450  덕풍동 2021-01-06  하남시  블리스 오피스텔  460-1  23.26  12  12500   0\n",
              "1  41450  덕풍동 2021-01-16  하남시     빌리브하남    735  32.41   3  25000   0\n",
              "2  41450  덕풍동 2021-01-18  하남시  하남푸르지오시티    741  26.40   4    500  45\n",
              "3  41450  덕풍동 2021-01-18  하남시  하남푸르지오시티    741  26.41   6    500  45\n",
              "4  41450  덕풍동 2021-01-19  하남시     빌리브하남    735  84.46  10  63000   0"
            ]
          },
          "metadata": {
            "tags": []
          },
          "execution_count": 10
        }
      ]
    },
    {
      "cell_type": "markdown",
      "metadata": {
        "id": "OaZVvf07T9lD"
      },
      "source": [
        "#### 5-3. 연립다세대 실거래가 정보"
      ]
    },
    {
      "cell_type": "code",
      "metadata": {
        "colab": {
          "base_uri": "https://localhost:8080/",
          "height": 204
        },
        "id": "CmW9qQ7eT9lR",
        "outputId": "c6c1ea98-2a82-41cc-f759-0b65d168ac29"
      },
      "source": [
        "df_RHTrade = molit.RHTrade(targetCode, yyyymm)               # 연립다세대 매매 실거래자료 조회\n",
        "df_RHTrade.head()"
      ],
      "execution_count": null,
      "outputs": [
        {
          "output_type": "execute_result",
          "data": {
            "text/html": [
              "<div>\n",
              "<style scoped>\n",
              "    .dataframe tbody tr th:only-of-type {\n",
              "        vertical-align: middle;\n",
              "    }\n",
              "\n",
              "    .dataframe tbody tr th {\n",
              "        vertical-align: top;\n",
              "    }\n",
              "\n",
              "    .dataframe thead th {\n",
              "        text-align: right;\n",
              "    }\n",
              "</style>\n",
              "<table border=\"1\" class=\"dataframe\">\n",
              "  <thead>\n",
              "    <tr style=\"text-align: right;\">\n",
              "      <th></th>\n",
              "      <th>지역코드</th>\n",
              "      <th>법정동</th>\n",
              "      <th>거래일</th>\n",
              "      <th>연립다세대</th>\n",
              "      <th>지번</th>\n",
              "      <th>전용면적</th>\n",
              "      <th>건축년도</th>\n",
              "      <th>층</th>\n",
              "      <th>거래금액</th>\n",
              "    </tr>\n",
              "  </thead>\n",
              "  <tbody>\n",
              "    <tr>\n",
              "      <th>0</th>\n",
              "      <td>11680</td>\n",
              "      <td>개포동</td>\n",
              "      <td>2021-01-02</td>\n",
              "      <td>우성파크빌라(161-0)</td>\n",
              "      <td>161</td>\n",
              "      <td>44.00</td>\n",
              "      <td>1993</td>\n",
              "      <td>-1</td>\n",
              "      <td>27500</td>\n",
              "    </tr>\n",
              "    <tr>\n",
              "      <th>1</th>\n",
              "      <td>11680</td>\n",
              "      <td>개포동</td>\n",
              "      <td>2021-01-05</td>\n",
              "      <td>파크힐빌리지(160-4)</td>\n",
              "      <td>160-4</td>\n",
              "      <td>36.44</td>\n",
              "      <td>1995</td>\n",
              "      <td>3</td>\n",
              "      <td>38000</td>\n",
              "    </tr>\n",
              "    <tr>\n",
              "      <th>2</th>\n",
              "      <td>11680</td>\n",
              "      <td>개포동</td>\n",
              "      <td>2021-01-05</td>\n",
              "      <td>베네스트빌</td>\n",
              "      <td>1179-6</td>\n",
              "      <td>50.18</td>\n",
              "      <td>2002</td>\n",
              "      <td>4</td>\n",
              "      <td>51500</td>\n",
              "    </tr>\n",
              "    <tr>\n",
              "      <th>3</th>\n",
              "      <td>11680</td>\n",
              "      <td>개포동</td>\n",
              "      <td>2021-01-05</td>\n",
              "      <td>베네스트빌</td>\n",
              "      <td>1179-6</td>\n",
              "      <td>50.18</td>\n",
              "      <td>2002</td>\n",
              "      <td>4</td>\n",
              "      <td>51500</td>\n",
              "    </tr>\n",
              "    <tr>\n",
              "      <th>4</th>\n",
              "      <td>11680</td>\n",
              "      <td>개포동</td>\n",
              "      <td>2021-01-06</td>\n",
              "      <td>베네스트빌</td>\n",
              "      <td>1179-6</td>\n",
              "      <td>44.28</td>\n",
              "      <td>2002</td>\n",
              "      <td>2</td>\n",
              "      <td>36000</td>\n",
              "    </tr>\n",
              "  </tbody>\n",
              "</table>\n",
              "</div>"
            ],
            "text/plain": [
              "    지역코드  법정동        거래일          연립다세대      지번   전용면적  건축년도  층   거래금액\n",
              "0  11680  개포동 2021-01-02  우성파크빌라(161-0)     161  44.00  1993 -1  27500\n",
              "1  11680  개포동 2021-01-05  파크힐빌리지(160-4)   160-4  36.44  1995  3  38000\n",
              "2  11680  개포동 2021-01-05          베네스트빌  1179-6  50.18  2002  4  51500\n",
              "3  11680  개포동 2021-01-05          베네스트빌  1179-6  50.18  2002  4  51500\n",
              "4  11680  개포동 2021-01-06          베네스트빌  1179-6  44.28  2002  2  36000"
            ]
          },
          "metadata": {
            "tags": []
          },
          "execution_count": 22
        }
      ]
    },
    {
      "cell_type": "code",
      "metadata": {
        "colab": {
          "base_uri": "https://localhost:8080/",
          "height": 204
        },
        "id": "PMclyDI6UjlR",
        "outputId": "44e56cfd-8856-4f58-f003-fbf282f21d65"
      },
      "source": [
        "df_RHRent = molit.RHRent(targetCode, yyyymm)                 # 연립다세대 전월세 실거래자료 조회\n",
        "df_RHRent.head()"
      ],
      "execution_count": null,
      "outputs": [
        {
          "output_type": "execute_result",
          "data": {
            "text/html": [
              "<div>\n",
              "<style scoped>\n",
              "    .dataframe tbody tr th:only-of-type {\n",
              "        vertical-align: middle;\n",
              "    }\n",
              "\n",
              "    .dataframe tbody tr th {\n",
              "        vertical-align: top;\n",
              "    }\n",
              "\n",
              "    .dataframe thead th {\n",
              "        text-align: right;\n",
              "    }\n",
              "</style>\n",
              "<table border=\"1\" class=\"dataframe\">\n",
              "  <thead>\n",
              "    <tr style=\"text-align: right;\">\n",
              "      <th></th>\n",
              "      <th>지역코드</th>\n",
              "      <th>법정동</th>\n",
              "      <th>거래일</th>\n",
              "      <th>연립다세대</th>\n",
              "      <th>지번</th>\n",
              "      <th>전용면적</th>\n",
              "      <th>건축년도</th>\n",
              "      <th>층</th>\n",
              "      <th>보증금액</th>\n",
              "      <th>월세금액</th>\n",
              "    </tr>\n",
              "  </thead>\n",
              "  <tbody>\n",
              "    <tr>\n",
              "      <th>0</th>\n",
              "      <td>11680</td>\n",
              "      <td>개포동</td>\n",
              "      <td>2021-01-01</td>\n",
              "      <td>명성빌라</td>\n",
              "      <td>1201-6</td>\n",
              "      <td>55.100</td>\n",
              "      <td>1993</td>\n",
              "      <td>3</td>\n",
              "      <td>7000</td>\n",
              "      <td>60</td>\n",
              "    </tr>\n",
              "    <tr>\n",
              "      <th>1</th>\n",
              "      <td>11680</td>\n",
              "      <td>개포동</td>\n",
              "      <td>2021-01-03</td>\n",
              "      <td>동산빌라</td>\n",
              "      <td>1164-29</td>\n",
              "      <td>42.600</td>\n",
              "      <td>1996</td>\n",
              "      <td>4</td>\n",
              "      <td>16800</td>\n",
              "      <td>0</td>\n",
              "    </tr>\n",
              "    <tr>\n",
              "      <th>2</th>\n",
              "      <td>11680</td>\n",
              "      <td>개포동</td>\n",
              "      <td>2021-01-04</td>\n",
              "      <td>새롬그린빌</td>\n",
              "      <td>1219-10</td>\n",
              "      <td>56.790</td>\n",
              "      <td>1995</td>\n",
              "      <td>1</td>\n",
              "      <td>30450</td>\n",
              "      <td>0</td>\n",
              "    </tr>\n",
              "    <tr>\n",
              "      <th>3</th>\n",
              "      <td>11680</td>\n",
              "      <td>개포동</td>\n",
              "      <td>2021-01-04</td>\n",
              "      <td>호원빌</td>\n",
              "      <td>1171-9</td>\n",
              "      <td>45.885</td>\n",
              "      <td>2016</td>\n",
              "      <td>2</td>\n",
              "      <td>26250</td>\n",
              "      <td>0</td>\n",
              "    </tr>\n",
              "    <tr>\n",
              "      <th>4</th>\n",
              "      <td>11680</td>\n",
              "      <td>개포동</td>\n",
              "      <td>2021-01-05</td>\n",
              "      <td>드림빌</td>\n",
              "      <td>660-34</td>\n",
              "      <td>14.880</td>\n",
              "      <td>2012</td>\n",
              "      <td>2</td>\n",
              "      <td>7500</td>\n",
              "      <td>0</td>\n",
              "    </tr>\n",
              "  </tbody>\n",
              "</table>\n",
              "</div>"
            ],
            "text/plain": [
              "    지역코드  법정동        거래일  연립다세대       지번    전용면적  건축년도  층   보증금액  월세금액\n",
              "0  11680  개포동 2021-01-01   명성빌라   1201-6  55.100  1993  3   7000    60\n",
              "1  11680  개포동 2021-01-03   동산빌라  1164-29  42.600  1996  4  16800     0\n",
              "2  11680  개포동 2021-01-04  새롬그린빌  1219-10  56.790  1995  1  30450     0\n",
              "3  11680  개포동 2021-01-04    호원빌   1171-9  45.885  2016  2  26250     0\n",
              "4  11680  개포동 2021-01-05    드림빌   660-34  14.880  2012  2   7500     0"
            ]
          },
          "metadata": {
            "tags": []
          },
          "execution_count": 24
        }
      ]
    },
    {
      "cell_type": "markdown",
      "metadata": {
        "id": "JS8NP7E_VMe5"
      },
      "source": [
        "#### 5-4. 단독/다가구 실거래가 정보"
      ]
    },
    {
      "cell_type": "code",
      "metadata": {
        "colab": {
          "base_uri": "https://localhost:8080/",
          "height": 204
        },
        "id": "MdJyRGnQVMe6",
        "outputId": "f75e8039-ade2-4471-831d-43d68e9f18aa"
      },
      "source": [
        "df_DHTrade = molit.DHTrade(targetCode, yyyymm)               # 단독/다가구 매매 실거래 조회\n",
        "df_DHTrade.head()"
      ],
      "execution_count": null,
      "outputs": [
        {
          "output_type": "execute_result",
          "data": {
            "text/html": [
              "<div>\n",
              "<style scoped>\n",
              "    .dataframe tbody tr th:only-of-type {\n",
              "        vertical-align: middle;\n",
              "    }\n",
              "\n",
              "    .dataframe tbody tr th {\n",
              "        vertical-align: top;\n",
              "    }\n",
              "\n",
              "    .dataframe thead th {\n",
              "        text-align: right;\n",
              "    }\n",
              "</style>\n",
              "<table border=\"1\" class=\"dataframe\">\n",
              "  <thead>\n",
              "    <tr style=\"text-align: right;\">\n",
              "      <th></th>\n",
              "      <th>지역코드</th>\n",
              "      <th>법정동</th>\n",
              "      <th>거래일</th>\n",
              "      <th>주택유형</th>\n",
              "      <th>대지면적</th>\n",
              "      <th>연면적</th>\n",
              "      <th>건축년도</th>\n",
              "      <th>거래금액</th>\n",
              "    </tr>\n",
              "  </thead>\n",
              "  <tbody>\n",
              "    <tr>\n",
              "      <th>0</th>\n",
              "      <td>11680</td>\n",
              "      <td>개포동</td>\n",
              "      <td>2021-01-07</td>\n",
              "      <td>단독</td>\n",
              "      <td>540.1</td>\n",
              "      <td>498.42</td>\n",
              "      <td>1997</td>\n",
              "      <td>820000</td>\n",
              "    </tr>\n",
              "    <tr>\n",
              "      <th>1</th>\n",
              "      <td>11680</td>\n",
              "      <td>논현동</td>\n",
              "      <td>2021-01-19</td>\n",
              "      <td>다가구</td>\n",
              "      <td>186.1</td>\n",
              "      <td>419.52</td>\n",
              "      <td>1995</td>\n",
              "      <td>300000</td>\n",
              "    </tr>\n",
              "    <tr>\n",
              "      <th>2</th>\n",
              "      <td>11680</td>\n",
              "      <td>논현동</td>\n",
              "      <td>2021-01-19</td>\n",
              "      <td>단독</td>\n",
              "      <td>298.8</td>\n",
              "      <td>453.29</td>\n",
              "      <td>1978</td>\n",
              "      <td>630000</td>\n",
              "    </tr>\n",
              "    <tr>\n",
              "      <th>3</th>\n",
              "      <td>11680</td>\n",
              "      <td>논현동</td>\n",
              "      <td>2021-01-22</td>\n",
              "      <td>단독</td>\n",
              "      <td>295.6</td>\n",
              "      <td>144.50</td>\n",
              "      <td>1976</td>\n",
              "      <td>520000</td>\n",
              "    </tr>\n",
              "    <tr>\n",
              "      <th>4</th>\n",
              "      <td>11680</td>\n",
              "      <td>대치동</td>\n",
              "      <td>2021-01-18</td>\n",
              "      <td>단독</td>\n",
              "      <td>165.9</td>\n",
              "      <td>131.50</td>\n",
              "      <td>1977</td>\n",
              "      <td>500000</td>\n",
              "    </tr>\n",
              "  </tbody>\n",
              "</table>\n",
              "</div>"
            ],
            "text/plain": [
              "    지역코드  법정동        거래일 주택유형   대지면적     연면적  건축년도    거래금액\n",
              "0  11680  개포동 2021-01-07   단독  540.1  498.42  1997  820000\n",
              "1  11680  논현동 2021-01-19  다가구  186.1  419.52  1995  300000\n",
              "2  11680  논현동 2021-01-19   단독  298.8  453.29  1978  630000\n",
              "3  11680  논현동 2021-01-22   단독  295.6  144.50  1976  520000\n",
              "4  11680  대치동 2021-01-18   단독  165.9  131.50  1977  500000"
            ]
          },
          "metadata": {
            "tags": []
          },
          "execution_count": 25
        }
      ]
    },
    {
      "cell_type": "code",
      "metadata": {
        "colab": {
          "base_uri": "https://localhost:8080/",
          "height": 204
        },
        "id": "6GQgAa0aVMe7",
        "outputId": "84d8232c-924f-45fb-d8a7-8626439154c5"
      },
      "source": [
        "df_DHRent = molit.DHRent(targetCode, yyyymm)                 # 단독/다가구 전월세 자료 조회\n",
        "df_DHRent.head()"
      ],
      "execution_count": null,
      "outputs": [
        {
          "output_type": "execute_result",
          "data": {
            "text/html": [
              "<div>\n",
              "<style scoped>\n",
              "    .dataframe tbody tr th:only-of-type {\n",
              "        vertical-align: middle;\n",
              "    }\n",
              "\n",
              "    .dataframe tbody tr th {\n",
              "        vertical-align: top;\n",
              "    }\n",
              "\n",
              "    .dataframe thead th {\n",
              "        text-align: right;\n",
              "    }\n",
              "</style>\n",
              "<table border=\"1\" class=\"dataframe\">\n",
              "  <thead>\n",
              "    <tr style=\"text-align: right;\">\n",
              "      <th></th>\n",
              "      <th>지역코드</th>\n",
              "      <th>법정동</th>\n",
              "      <th>거래일</th>\n",
              "      <th>계약면적</th>\n",
              "      <th>보증금액</th>\n",
              "      <th>월세금액</th>\n",
              "    </tr>\n",
              "  </thead>\n",
              "  <tbody>\n",
              "    <tr>\n",
              "      <th>0</th>\n",
              "      <td>11680</td>\n",
              "      <td>개포동</td>\n",
              "      <td>2021-01-04</td>\n",
              "      <td>82.00</td>\n",
              "      <td>42000</td>\n",
              "      <td>0</td>\n",
              "    </tr>\n",
              "    <tr>\n",
              "      <th>1</th>\n",
              "      <td>11680</td>\n",
              "      <td>개포동</td>\n",
              "      <td>2021-01-05</td>\n",
              "      <td>44.96</td>\n",
              "      <td>15000</td>\n",
              "      <td>33</td>\n",
              "    </tr>\n",
              "    <tr>\n",
              "      <th>2</th>\n",
              "      <td>11680</td>\n",
              "      <td>개포동</td>\n",
              "      <td>2021-01-05</td>\n",
              "      <td>44.96</td>\n",
              "      <td>15000</td>\n",
              "      <td>33</td>\n",
              "    </tr>\n",
              "    <tr>\n",
              "      <th>3</th>\n",
              "      <td>11680</td>\n",
              "      <td>개포동</td>\n",
              "      <td>2021-01-05</td>\n",
              "      <td>45.00</td>\n",
              "      <td>2000</td>\n",
              "      <td>80</td>\n",
              "    </tr>\n",
              "    <tr>\n",
              "      <th>4</th>\n",
              "      <td>11680</td>\n",
              "      <td>개포동</td>\n",
              "      <td>2021-01-06</td>\n",
              "      <td>16.50</td>\n",
              "      <td>1000</td>\n",
              "      <td>51</td>\n",
              "    </tr>\n",
              "  </tbody>\n",
              "</table>\n",
              "</div>"
            ],
            "text/plain": [
              "    지역코드  법정동        거래일   계약면적   보증금액  월세금액\n",
              "0  11680  개포동 2021-01-04  82.00  42000     0\n",
              "1  11680  개포동 2021-01-05  44.96  15000    33\n",
              "2  11680  개포동 2021-01-05  44.96  15000    33\n",
              "3  11680  개포동 2021-01-05  45.00   2000    80\n",
              "4  11680  개포동 2021-01-06  16.50   1000    51"
            ]
          },
          "metadata": {
            "tags": []
          },
          "execution_count": 26
        }
      ]
    },
    {
      "cell_type": "markdown",
      "metadata": {
        "id": "iFzFWmQGV-b1"
      },
      "source": [
        "#### 5-5. 토지/상업용 실거래가 정보"
      ]
    },
    {
      "cell_type": "code",
      "metadata": {
        "colab": {
          "base_uri": "https://localhost:8080/",
          "height": 204
        },
        "id": "RQMVKteAV-cC",
        "outputId": "b94c79d6-d069-4ce8-cf78-c57e463ab0fd"
      },
      "source": [
        "df_LandTrade = molit.LandTrade(targetCode, yyyymm)           # 토지 매매 신고 조회\n",
        "df_LandTrade.head()"
      ],
      "execution_count": null,
      "outputs": [
        {
          "output_type": "execute_result",
          "data": {
            "text/html": [
              "<div>\n",
              "<style scoped>\n",
              "    .dataframe tbody tr th:only-of-type {\n",
              "        vertical-align: middle;\n",
              "    }\n",
              "\n",
              "    .dataframe tbody tr th {\n",
              "        vertical-align: top;\n",
              "    }\n",
              "\n",
              "    .dataframe thead th {\n",
              "        text-align: right;\n",
              "    }\n",
              "</style>\n",
              "<table border=\"1\" class=\"dataframe\">\n",
              "  <thead>\n",
              "    <tr style=\"text-align: right;\">\n",
              "      <th></th>\n",
              "      <th>지역코드</th>\n",
              "      <th>법정동</th>\n",
              "      <th>거래일</th>\n",
              "      <th>시군구</th>\n",
              "      <th>용도지역</th>\n",
              "      <th>지목</th>\n",
              "      <th>지분거래구분</th>\n",
              "      <th>거래면적</th>\n",
              "      <th>거래금액</th>\n",
              "    </tr>\n",
              "  </thead>\n",
              "  <tbody>\n",
              "    <tr>\n",
              "      <th>0</th>\n",
              "      <td>11680</td>\n",
              "      <td>개포동</td>\n",
              "      <td>2021-01-14</td>\n",
              "      <td>강남구</td>\n",
              "      <td>자연녹지지역</td>\n",
              "      <td>답</td>\n",
              "      <td>NaN</td>\n",
              "      <td>43</td>\n",
              "      <td>15712</td>\n",
              "    </tr>\n",
              "    <tr>\n",
              "      <th>1</th>\n",
              "      <td>11680</td>\n",
              "      <td>논현동</td>\n",
              "      <td>2021-01-13</td>\n",
              "      <td>강남구</td>\n",
              "      <td>제3종일반주거지역</td>\n",
              "      <td>대</td>\n",
              "      <td>NaN</td>\n",
              "      <td>426</td>\n",
              "      <td>1415000</td>\n",
              "    </tr>\n",
              "    <tr>\n",
              "      <th>2</th>\n",
              "      <td>11680</td>\n",
              "      <td>논현동</td>\n",
              "      <td>2021-01-14</td>\n",
              "      <td>강남구</td>\n",
              "      <td>제2종일반주거지역</td>\n",
              "      <td>대</td>\n",
              "      <td>NaN</td>\n",
              "      <td>172</td>\n",
              "      <td>466749</td>\n",
              "    </tr>\n",
              "    <tr>\n",
              "      <th>3</th>\n",
              "      <td>11680</td>\n",
              "      <td>논현동</td>\n",
              "      <td>2021-01-14</td>\n",
              "      <td>강남구</td>\n",
              "      <td>제2종일반주거지역</td>\n",
              "      <td>대</td>\n",
              "      <td>NaN</td>\n",
              "      <td>172</td>\n",
              "      <td>466749</td>\n",
              "    </tr>\n",
              "    <tr>\n",
              "      <th>4</th>\n",
              "      <td>11680</td>\n",
              "      <td>대치동</td>\n",
              "      <td>2021-01-07</td>\n",
              "      <td>강남구</td>\n",
              "      <td>제3종일반주거지역</td>\n",
              "      <td>전</td>\n",
              "      <td>NaN</td>\n",
              "      <td>4</td>\n",
              "      <td>25000</td>\n",
              "    </tr>\n",
              "  </tbody>\n",
              "</table>\n",
              "</div>"
            ],
            "text/plain": [
              "    지역코드  법정동        거래일  시군구       용도지역 지목  지분거래구분  거래면적     거래금액\n",
              "0  11680  개포동 2021-01-14  강남구     자연녹지지역  답     NaN    43    15712\n",
              "1  11680  논현동 2021-01-13  강남구  제3종일반주거지역  대     NaN   426  1415000\n",
              "2  11680  논현동 2021-01-14  강남구  제2종일반주거지역  대     NaN   172   466749\n",
              "3  11680  논현동 2021-01-14  강남구  제2종일반주거지역  대     NaN   172   466749\n",
              "4  11680  대치동 2021-01-07  강남구  제3종일반주거지역  전     NaN     4    25000"
            ]
          },
          "metadata": {
            "tags": []
          },
          "execution_count": 27
        }
      ]
    },
    {
      "cell_type": "code",
      "metadata": {
        "colab": {
          "base_uri": "https://localhost:8080/",
          "height": 204
        },
        "id": "RjSUOaJTV-cD",
        "outputId": "088e1adc-a5a9-421f-e6cf-722950ea328d"
      },
      "source": [
        "df_BizTrade = molit.BizTrade(targetCode, yyyymm)             # 상업업무용 부동산 매매 신고 자료 조회\n",
        "df_BizTrade.head()"
      ],
      "execution_count": null,
      "outputs": [
        {
          "output_type": "execute_result",
          "data": {
            "text/html": [
              "<div>\n",
              "<style scoped>\n",
              "    .dataframe tbody tr th:only-of-type {\n",
              "        vertical-align: middle;\n",
              "    }\n",
              "\n",
              "    .dataframe tbody tr th {\n",
              "        vertical-align: top;\n",
              "    }\n",
              "\n",
              "    .dataframe thead th {\n",
              "        text-align: right;\n",
              "    }\n",
              "</style>\n",
              "<table border=\"1\" class=\"dataframe\">\n",
              "  <thead>\n",
              "    <tr style=\"text-align: right;\">\n",
              "      <th></th>\n",
              "      <th>지역코드</th>\n",
              "      <th>법정동</th>\n",
              "      <th>거래일</th>\n",
              "      <th>시군구</th>\n",
              "      <th>용도지역</th>\n",
              "      <th>유형</th>\n",
              "      <th>대지면적</th>\n",
              "      <th>구분</th>\n",
              "      <th>건물면적</th>\n",
              "      <th>건물주용도</th>\n",
              "      <th>건축년도</th>\n",
              "      <th>층</th>\n",
              "      <th>거래금액</th>\n",
              "    </tr>\n",
              "  </thead>\n",
              "  <tbody>\n",
              "    <tr>\n",
              "      <th>0</th>\n",
              "      <td>11680</td>\n",
              "      <td>개포동</td>\n",
              "      <td>2021-01-08</td>\n",
              "      <td>강남구</td>\n",
              "      <td>일반상업</td>\n",
              "      <td>집합</td>\n",
              "      <td>NaN</td>\n",
              "      <td>NaN</td>\n",
              "      <td>31.91</td>\n",
              "      <td>업무</td>\n",
              "      <td>1997.0</td>\n",
              "      <td>22.0</td>\n",
              "      <td>21500</td>\n",
              "    </tr>\n",
              "    <tr>\n",
              "      <th>1</th>\n",
              "      <td>11680</td>\n",
              "      <td>개포동</td>\n",
              "      <td>2021-01-15</td>\n",
              "      <td>강남구</td>\n",
              "      <td>제2종일반주거</td>\n",
              "      <td>집합</td>\n",
              "      <td>NaN</td>\n",
              "      <td>NaN</td>\n",
              "      <td>56.25</td>\n",
              "      <td>제2종근린생활</td>\n",
              "      <td>2019.0</td>\n",
              "      <td>NaN</td>\n",
              "      <td>150000</td>\n",
              "    </tr>\n",
              "    <tr>\n",
              "      <th>2</th>\n",
              "      <td>11680</td>\n",
              "      <td>개포동</td>\n",
              "      <td>2021-01-29</td>\n",
              "      <td>강남구</td>\n",
              "      <td>제3종일반주거</td>\n",
              "      <td>집합</td>\n",
              "      <td>NaN</td>\n",
              "      <td>NaN</td>\n",
              "      <td>103.88</td>\n",
              "      <td>제1종근린생활</td>\n",
              "      <td>2011.0</td>\n",
              "      <td>2.0</td>\n",
              "      <td>34000</td>\n",
              "    </tr>\n",
              "    <tr>\n",
              "      <th>3</th>\n",
              "      <td>11680</td>\n",
              "      <td>개포동</td>\n",
              "      <td>2021-01-30</td>\n",
              "      <td>강남구</td>\n",
              "      <td>일반상업</td>\n",
              "      <td>집합</td>\n",
              "      <td>NaN</td>\n",
              "      <td>NaN</td>\n",
              "      <td>17.68</td>\n",
              "      <td>판매</td>\n",
              "      <td>1984.0</td>\n",
              "      <td>NaN</td>\n",
              "      <td>10777</td>\n",
              "    </tr>\n",
              "    <tr>\n",
              "      <th>4</th>\n",
              "      <td>11680</td>\n",
              "      <td>논현동</td>\n",
              "      <td>2021-01-07</td>\n",
              "      <td>강남구</td>\n",
              "      <td>제3종일반주거</td>\n",
              "      <td>일반</td>\n",
              "      <td>231.1</td>\n",
              "      <td>NaN</td>\n",
              "      <td>599.98</td>\n",
              "      <td>제1종근린생활</td>\n",
              "      <td>1994.0</td>\n",
              "      <td>NaN</td>\n",
              "      <td>840000</td>\n",
              "    </tr>\n",
              "  </tbody>\n",
              "</table>\n",
              "</div>"
            ],
            "text/plain": [
              "    지역코드  법정동        거래일  시군구     용도지역  ...    건물면적    건물주용도    건축년도     층    거래금액\n",
              "0  11680  개포동 2021-01-08  강남구     일반상업  ...   31.91       업무  1997.0  22.0   21500\n",
              "1  11680  개포동 2021-01-15  강남구  제2종일반주거  ...   56.25  제2종근린생활  2019.0   NaN  150000\n",
              "2  11680  개포동 2021-01-29  강남구  제3종일반주거  ...  103.88  제1종근린생활  2011.0   2.0   34000\n",
              "3  11680  개포동 2021-01-30  강남구     일반상업  ...   17.68       판매  1984.0   NaN   10777\n",
              "4  11680  논현동 2021-01-07  강남구  제3종일반주거  ...  599.98  제1종근린생활  1994.0   NaN  840000\n",
              "\n",
              "[5 rows x 13 columns]"
            ]
          },
          "metadata": {
            "tags": []
          },
          "execution_count": 28
        }
      ]
    },
    {
      "cell_type": "markdown",
      "metadata": {
        "id": "cZq2sEuCW-Kw"
      },
      "source": [
        "### 6. 기간별로 데이터 불러오기"
      ]
    },
    {
      "cell_type": "code",
      "metadata": {
        "id": "pOEsyB_2023f"
      },
      "source": [
        "# 6. 지역, 기간 별 데이터 프레임 만들기\n",
        "# Function(API서비스 메서드, 지역코드(5자리), 시작월(YYYYMM), 종료월(YYYYMM))\n",
        "df_AptTradeSum = molit.DataCollector(molit.AptTrade, 41135, 202001, 202012)\n",
        "df_AptTradeDetailSum = molit.DataCollector(molit.AptTradeDetail, 41135, 202001, 202012)\n",
        "df_AptRentSum = molit.DataCollector(molit.AptRent, 41135, 202001, 202012)\n",
        "df_AptOwnershipSum = molit.DataCollector(molit.AptOwnership, 41135, 202001, 202012)\n",
        "\n",
        "df_OffiTradeSum = molit.DataCollector(molit.OffiTrade, 41135, 202001, 202012)\n",
        "df_OffiRentSum = molit.DataCollector(molit.OffiRent, 41135, 202001, 202012)\n",
        "df_RHTradeSum = molit.DataCollector(molit.RHTrade, 41135, 202001, 202012)\n",
        "df_RHRentSum = molit.DataCollector(molit.RHRent, 41135, 202001, 202012)\n",
        "\n",
        "df_DHTradeSum = molit.DataCollector(molit.DHTrade, 41135, 202001, 202012)\n",
        "df_DHRentSum = molit.DataCollector(molit.DHRent, 41135, 202001, 202012)\n",
        "df_LandTradeSum = molit.DataCollector(molit.LandTrade, 41135, 202001, 202012)\n",
        "df_BizTradeSum = molit.DataCollector(molit.BizTrade, 41135, 202001, 202012)\n"
      ],
      "execution_count": null,
      "outputs": []
    },
    {
      "cell_type": "code",
      "metadata": {
        "id": "p19326Wcui8m",
        "colab": {
          "base_uri": "https://localhost:8080/",
          "height": 204
        },
        "outputId": "f5aa05ce-4ef3-4ee4-cf1d-1ac79a4246e3"
      },
      "source": [
        "df_AptTradeSum.head()"
      ],
      "execution_count": null,
      "outputs": [
        {
          "output_type": "execute_result",
          "data": {
            "text/html": [
              "<div>\n",
              "<style scoped>\n",
              "    .dataframe tbody tr th:only-of-type {\n",
              "        vertical-align: middle;\n",
              "    }\n",
              "\n",
              "    .dataframe tbody tr th {\n",
              "        vertical-align: top;\n",
              "    }\n",
              "\n",
              "    .dataframe thead th {\n",
              "        text-align: right;\n",
              "    }\n",
              "</style>\n",
              "<table border=\"1\" class=\"dataframe\">\n",
              "  <thead>\n",
              "    <tr style=\"text-align: right;\">\n",
              "      <th></th>\n",
              "      <th>지역코드</th>\n",
              "      <th>법정동</th>\n",
              "      <th>거래일</th>\n",
              "      <th>아파트</th>\n",
              "      <th>지번</th>\n",
              "      <th>전용면적</th>\n",
              "      <th>층</th>\n",
              "      <th>건축년도</th>\n",
              "      <th>거래금액</th>\n",
              "    </tr>\n",
              "  </thead>\n",
              "  <tbody>\n",
              "    <tr>\n",
              "      <th>0</th>\n",
              "      <td>41135</td>\n",
              "      <td>구미동</td>\n",
              "      <td>2020-01-03</td>\n",
              "      <td>까치마을(3단지)(신원)</td>\n",
              "      <td>66</td>\n",
              "      <td>162.87</td>\n",
              "      <td>17</td>\n",
              "      <td>1995</td>\n",
              "      <td>130000</td>\n",
              "    </tr>\n",
              "    <tr>\n",
              "      <th>1</th>\n",
              "      <td>41135</td>\n",
              "      <td>구미동</td>\n",
              "      <td>2020-01-03</td>\n",
              "      <td>무지개(10단지)(삼성)</td>\n",
              "      <td>222</td>\n",
              "      <td>101.82</td>\n",
              "      <td>15</td>\n",
              "      <td>1996</td>\n",
              "      <td>74000</td>\n",
              "    </tr>\n",
              "    <tr>\n",
              "      <th>2</th>\n",
              "      <td>41135</td>\n",
              "      <td>구미동</td>\n",
              "      <td>2020-01-03</td>\n",
              "      <td>까치마을(2단지)(주공)</td>\n",
              "      <td>88</td>\n",
              "      <td>49.36</td>\n",
              "      <td>8</td>\n",
              "      <td>1995</td>\n",
              "      <td>53200</td>\n",
              "    </tr>\n",
              "    <tr>\n",
              "      <th>3</th>\n",
              "      <td>41135</td>\n",
              "      <td>구미동</td>\n",
              "      <td>2020-01-04</td>\n",
              "      <td>무지개(10단지)(건영)</td>\n",
              "      <td>222</td>\n",
              "      <td>134.82</td>\n",
              "      <td>14</td>\n",
              "      <td>1996</td>\n",
              "      <td>83500</td>\n",
              "    </tr>\n",
              "    <tr>\n",
              "      <th>4</th>\n",
              "      <td>41135</td>\n",
              "      <td>구미동</td>\n",
              "      <td>2020-01-04</td>\n",
              "      <td>무지개(8단지)(제일)</td>\n",
              "      <td>243</td>\n",
              "      <td>101.91</td>\n",
              "      <td>10</td>\n",
              "      <td>1995</td>\n",
              "      <td>71000</td>\n",
              "    </tr>\n",
              "  </tbody>\n",
              "</table>\n",
              "</div>"
            ],
            "text/plain": [
              "    지역코드  법정동        거래일            아파트   지번    전용면적   층  건축년도    거래금액\n",
              "0  41135  구미동 2020-01-03  까치마을(3단지)(신원)   66  162.87  17  1995  130000\n",
              "1  41135  구미동 2020-01-03  무지개(10단지)(삼성)  222  101.82  15  1996   74000\n",
              "2  41135  구미동 2020-01-03  까치마을(2단지)(주공)   88   49.36   8  1995   53200\n",
              "3  41135  구미동 2020-01-04  무지개(10단지)(건영)  222  134.82  14  1996   83500\n",
              "4  41135  구미동 2020-01-04   무지개(8단지)(제일)  243  101.91  10  1995   71000"
            ]
          },
          "metadata": {
            "tags": []
          },
          "execution_count": 10
        }
      ]
    },
    {
      "cell_type": "code",
      "metadata": {
        "id": "hl3BNQP4ulKc",
        "colab": {
          "base_uri": "https://localhost:8080/",
          "height": 204
        },
        "outputId": "33558d47-72a2-43ed-955f-6aeb6965cac5"
      },
      "source": [
        "df_AptTradeSum.tail()"
      ],
      "execution_count": null,
      "outputs": [
        {
          "output_type": "execute_result",
          "data": {
            "text/html": [
              "<div>\n",
              "<style scoped>\n",
              "    .dataframe tbody tr th:only-of-type {\n",
              "        vertical-align: middle;\n",
              "    }\n",
              "\n",
              "    .dataframe tbody tr th {\n",
              "        vertical-align: top;\n",
              "    }\n",
              "\n",
              "    .dataframe thead th {\n",
              "        text-align: right;\n",
              "    }\n",
              "</style>\n",
              "<table border=\"1\" class=\"dataframe\">\n",
              "  <thead>\n",
              "    <tr style=\"text-align: right;\">\n",
              "      <th></th>\n",
              "      <th>지역코드</th>\n",
              "      <th>법정동</th>\n",
              "      <th>거래일</th>\n",
              "      <th>아파트</th>\n",
              "      <th>지번</th>\n",
              "      <th>전용면적</th>\n",
              "      <th>층</th>\n",
              "      <th>건축년도</th>\n",
              "      <th>거래금액</th>\n",
              "    </tr>\n",
              "  </thead>\n",
              "  <tbody>\n",
              "    <tr>\n",
              "      <th>1406</th>\n",
              "      <td>41135</td>\n",
              "      <td>판교동</td>\n",
              "      <td>2020-03-14</td>\n",
              "      <td>판교원마을9단지(한림풀에버)</td>\n",
              "      <td>585</td>\n",
              "      <td>84.9907</td>\n",
              "      <td>1</td>\n",
              "      <td>2009</td>\n",
              "      <td>101000</td>\n",
              "    </tr>\n",
              "    <tr>\n",
              "      <th>1407</th>\n",
              "      <td>41135</td>\n",
              "      <td>판교동</td>\n",
              "      <td>2020-03-14</td>\n",
              "      <td>판교원마을7단지(모아미래도)임대</td>\n",
              "      <td>637</td>\n",
              "      <td>56.555</td>\n",
              "      <td>11</td>\n",
              "      <td>2009</td>\n",
              "      <td>88500</td>\n",
              "    </tr>\n",
              "    <tr>\n",
              "      <th>1408</th>\n",
              "      <td>41135</td>\n",
              "      <td>판교동</td>\n",
              "      <td>2020-03-18</td>\n",
              "      <td>판교원마을7단지(모아미래도)임대</td>\n",
              "      <td>637</td>\n",
              "      <td>80.21</td>\n",
              "      <td>11</td>\n",
              "      <td>2009</td>\n",
              "      <td>103000</td>\n",
              "    </tr>\n",
              "    <tr>\n",
              "      <th>1409</th>\n",
              "      <td>41135</td>\n",
              "      <td>판교동</td>\n",
              "      <td>2020-03-19</td>\n",
              "      <td>판교원마을6단지(진원로제비앙)임대</td>\n",
              "      <td>635</td>\n",
              "      <td>83.33</td>\n",
              "      <td>6</td>\n",
              "      <td>2009</td>\n",
              "      <td>93000</td>\n",
              "    </tr>\n",
              "    <tr>\n",
              "      <th>1410</th>\n",
              "      <td>41135</td>\n",
              "      <td>판교동</td>\n",
              "      <td>2020-03-21</td>\n",
              "      <td>판교원마을9단지(한림풀에버)</td>\n",
              "      <td>585</td>\n",
              "      <td>71.8438</td>\n",
              "      <td>6</td>\n",
              "      <td>2009</td>\n",
              "      <td>100500</td>\n",
              "    </tr>\n",
              "  </tbody>\n",
              "</table>\n",
              "</div>"
            ],
            "text/plain": [
              "       지역코드  법정동        거래일                 아파트   지번     전용면적   층  건축년도    거래금액\n",
              "1406  41135  판교동 2020-03-14     판교원마을9단지(한림풀에버)  585  84.9907   1  2009  101000\n",
              "1407  41135  판교동 2020-03-14   판교원마을7단지(모아미래도)임대  637   56.555  11  2009   88500\n",
              "1408  41135  판교동 2020-03-18   판교원마을7단지(모아미래도)임대  637    80.21  11  2009  103000\n",
              "1409  41135  판교동 2020-03-19  판교원마을6단지(진원로제비앙)임대  635    83.33   6  2009   93000\n",
              "1410  41135  판교동 2020-03-21     판교원마을9단지(한림풀에버)  585  71.8438   6  2009  100500"
            ]
          },
          "metadata": {
            "tags": []
          },
          "execution_count": 11
        }
      ]
    }
  ]
}